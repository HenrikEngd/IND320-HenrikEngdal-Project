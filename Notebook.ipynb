{
 "cells": [
  {
   "cell_type": "markdown",
   "id": "3c3d6ad7",
   "metadata": {},
   "source": [
    "# IND320 Course Project"
   ]
  },
  {
   "cell_type": "markdown",
   "id": "33b937bb",
   "metadata": {},
   "source": [
    "## Introduction\n",
    "\n",
    "This directory contains the first part of the course project in the \"IND320 - Data to Decision\" at the Norwegian University of Life Sciences. The project is divided into four compulsory assignments: \n",
    "- Dashboard Basics (current)\n",
    "- Databases and APIs \n",
    "- Pre-processing and anomaly detection \n",
    "- Machine Learning and visualisation"
   ]
  },
  {
   "cell_type": "markdown",
   "id": "f070246c",
   "metadata": {},
   "source": [
    "### AI Usage\n",
    "\n",
    "AI plays a multifaceted role throughout this project, primarily serving as an assistant and analytical tool. The project leverages AI in several areas:\n",
    "\n",
    "**Development and Code Generation:** \n",
    "- AI assists in writing and optimizing code for the application. \n",
    "\n",
    "**Data Analysis and Insights:** \n",
    "- AI helps analyze data patterns and identifying trends. It assists in generating meaningful statistical summaries and suggesting appropriate visualization techniques for the given data.\n",
    "\n",
    "**Documentation and Communication:** \n",
    "- AI supports the creation of clear documentation, such as code comments, and user interface text. It helps structure the project documentation and ensures technical concepts are communicated effectively.\n",
    "\n",
    "**Problem-Solving and Debugging:** \n",
    "- Throughout the development process, AI serves as a coding companion, helping troubleshoot issues, optimize data processing workflows, and suggesting best practices."
   ]
  },
  {
   "cell_type": "markdown",
   "id": "8701f94b",
   "metadata": {},
   "source": [
    "## Notes\n",
    "\n",
    "For running and displaying this project i suggest using viewing the deployed version of the application linked under \"Code access & direct links\" or downloading the project and running it from your terminal with \"streamlit run streamlit_app.py\". I've tried to make this Notebook readable and usable, but find it a bit \"impractical\" at times."
   ]
  },
  {
   "cell_type": "markdown",
   "id": "8f19f027",
   "metadata": {},
   "source": [
    "## Project structure & code access"
   ]
  },
  {
   "cell_type": "markdown",
   "id": "baf3a8e0",
   "metadata": {},
   "source": [
    "### File structure\n",
    "\n",
    "As for the first assignment (Project Work, Part 1), the project's file structure is as follows:\n",
    "- /assets\n",
    "    - contains datasets\n",
    "- /pages\n",
    "    - contains all sub pages for the application\n",
    "- Notebook.ipynb\n",
    "    - Holds the documentation of the project\n",
    "- streamlit_app.py\n",
    "    - Serves as the entrypoint for running the application. Also represents the \"Homepage\".\n",
    "- README.md\n",
    "    - Holds documentation and other details. Maily used for Github repo.\n",
    "- requirements.txt\n",
    "    - Contains all necessary packages/modules installed to run the project correctly"
   ]
  },
  {
   "cell_type": "markdown",
   "id": "39fc8e78",
   "metadata": {},
   "source": [
    "### Code access and direct links\n",
    "\n",
    "- The project is deployed here: [ind320-henrikengdal-project](https://ind320-henrikengdal-project.streamlit.app/)\n",
    "- The code is accesible at the repository: [henrikengdal/ind320-henrikengdal-project](https://github.com/HenrikEngd/IND320-HenrikEngdal-Project.git)"
   ]
  },
  {
   "cell_type": "markdown",
   "id": "c03b9dc2",
   "metadata": {},
   "source": [
    "## Project Work, Part 1"
   ]
  },
  {
   "cell_type": "markdown",
   "id": "c09c576f",
   "metadata": {},
   "source": [
    "#### Imports & Run"
   ]
  },
  {
   "cell_type": "code",
   "execution_count": 1,
   "id": "4565698b",
   "metadata": {},
   "outputs": [],
   "source": [
    "import streamlit as st\n",
    "import pandas as pd\n",
    "import plotly.express as px\n",
    "import plotly.graph_objects as go\n",
    "from datetime import datetime\n",
    "\n",
    "# Only needed for displaying the application within the notebook\n",
    "from IPython.display import IFrame"
   ]
  },
  {
   "cell_type": "code",
   "execution_count": 2,
   "id": "f896d1f3",
   "metadata": {},
   "outputs": [
    {
     "name": "stdout",
     "output_type": "stream",
     "text": [
      "2025-10-02 12:40:49.423 Port 8501 is already in use\n"
     ]
    }
   ],
   "source": [
    "path_prefix = \"/Users/henrikengdal/Documents/GitHub/IND320-HenrikEngdal-Project/\"\n",
    "file_name = \"streamlit_app.py\"\n",
    "!streamlit run {path_prefix}{file_name} --server.port 8501 --server.headless true # Flags used for displaying the Streamlit app in an IFrame within Jupyter Notebook"
   ]
  },
  {
   "cell_type": "markdown",
   "id": "dffe6afc",
   "metadata": {},
   "source": [
    "#### Hoemepage\n",
    " My understanding for this page is that it does not have any spesifics that it has to include. I therefore chose to use it as a sort of \"Welcome to this project\" and explain a bit about what is to be found in the application and its use. The file streamlit_app.py also includes code for loading, preparing and caching the data so that its available to the other pages. Being done this way, a user has to enter the homepage before data is possible to display, but since it's the \"landingpage\" i think thats fine, and i've also added some error-handlig that politely asks the user to navigate back if the data is not loaded yet. \n",
    "\n",
    " See file strealit_app.py for code details"
   ]
  },
  {
   "cell_type": "code",
   "execution_count": 3,
   "id": "f29d4360",
   "metadata": {},
   "outputs": [
    {
     "data": {
      "text/html": [
       "\n",
       "        <iframe\n",
       "            width=\"100%\"\n",
       "            height=\"800\"\n",
       "            src=\"http://localhost:8501\"\n",
       "            frameborder=\"0\"\n",
       "            allowfullscreen\n",
       "            \n",
       "        ></iframe>\n",
       "        "
      ],
      "text/plain": [
       "<IPython.lib.display.IFrame at 0x1564bba50>"
      ]
     },
     "execution_count": 3,
     "metadata": {},
     "output_type": "execute_result"
    }
   ],
   "source": [
    "# Home\n",
    "IFrame(\"http://localhost:8501\", width=\"100%\", height=800)"
   ]
  },
  {
   "cell_type": "markdown",
   "id": "cfe67a01",
   "metadata": {},
   "source": [
    "#### sencond_page (Static data visualization)\n",
    "\n",
    "My understanding of this page is that it is to include a table using a \"row-wise display\" of the first month of the data series (January). And that the table should have one row for each column of the imported data. Therefore 5 rows in total:\n",
    "- temperature_2m\n",
    "- percipitation\n",
    "- wind_speed_10m\n",
    "- wind_gust_10m\n",
    "- wind_direction_10m\n",
    "\n",
    "I've also included some values for Mean Value, Minimum, Maximum and Standard Deviation for some more understanding for the data and for a quick and easy overview\n",
    "\n",
    "See the file \"pages/second_page.py\" for code details"
   ]
  },
  {
   "cell_type": "code",
   "execution_count": null,
   "id": "72a05d55",
   "metadata": {},
   "outputs": [
    {
     "data": {
      "text/html": [
       "\n",
       "        <iframe\n",
       "            width=\"100%\"\n",
       "            height=\"600\"\n",
       "            src=\"http://localhost:8501/second_page\"\n",
       "            frameborder=\"0\"\n",
       "            allowfullscreen\n",
       "            \n",
       "        ></iframe>\n",
       "        "
      ],
      "text/plain": [
       "<IPython.lib.display.IFrame at 0x1564d6f50>"
      ]
     },
     "execution_count": 4,
     "metadata": {},
     "output_type": "execute_result"
    }
   ],
   "source": [
    "# Second page (Make sure you click back to the first page and then navigate to the third page to load it properly)\n",
    "IFrame(\"http://localhost:8501/second_page\", width=\"100%\", height=600)"
   ]
  },
  {
   "cell_type": "markdown",
   "id": "d10f521a",
   "metadata": {},
   "source": [
    "#### third_page (Dynamic visualization)\n",
    "\n",
    "My understanding of this page is that it should include a graph display of the imported data including axis titles and other relevant formatting.\n",
    "There should also be the option to select single columns for display or all columns together\n",
    "There should also be a slider to select a subset of months (default to the first month) "
   ]
  },
  {
   "cell_type": "code",
   "execution_count": null,
   "id": "7bbe665b",
   "metadata": {},
   "outputs": [
    {
     "data": {
      "text/html": [
       "\n",
       "        <iframe\n",
       "            width=\"100%\"\n",
       "            height=\"1200\"\n",
       "            src=\"http://localhost:8501/third_page\"\n",
       "            frameborder=\"0\"\n",
       "            allowfullscreen\n",
       "            \n",
       "        ></iframe>\n",
       "        "
      ],
      "text/plain": [
       "<IPython.lib.display.IFrame at 0x1564d7a10>"
      ]
     },
     "execution_count": 5,
     "metadata": {},
     "output_type": "execute_result"
    }
   ],
   "source": [
    "# Third page (Make sure you click back to the first page and then navigate to the third page to load it properly)\n",
    "IFrame(\"http://localhost:8501/third_page\", width=\"100%\", height=1200)"
   ]
  }
 ],
 "metadata": {
  "kernelspec": {
   "display_name": "Python 3",
   "language": "python",
   "name": "python3"
  },
  "language_info": {
   "codemirror_mode": {
    "name": "ipython",
    "version": 3
   },
   "file_extension": ".py",
   "mimetype": "text/x-python",
   "name": "python",
   "nbconvert_exporter": "python",
   "pygments_lexer": "ipython3",
   "version": "3.11.13"
  }
 },
 "nbformat": 4,
 "nbformat_minor": 5
}
