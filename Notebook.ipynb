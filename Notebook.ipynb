{
 "cells": [
  {
   "cell_type": "markdown",
   "id": "3c3d6ad7",
   "metadata": {},
   "source": [
    "# IND320 Course Project"
   ]
  },
  {
   "cell_type": "code",
   "execution_count": null,
   "id": "23ee1710",
   "metadata": {},
   "outputs": [
    {
     "name": "stdout",
     "output_type": "stream",
     "text": [
      "               time  temperature_2m (°C)  precipitation (mm)  \\\n",
      "0  2020-01-01T00:00                 -2.2                 0.1   \n",
      "1  2020-01-01T01:00                 -2.2                 0.0   \n",
      "2  2020-01-01T02:00                 -2.3                 0.0   \n",
      "3  2020-01-01T03:00                 -2.3                 0.0   \n",
      "4  2020-01-01T04:00                 -2.7                 0.0   \n",
      "\n",
      "   wind_speed_10m (m/s)  wind_gusts_10m (m/s)  wind_direction_10m (°)  \n",
      "0                   9.6                  21.3                     284  \n",
      "1                  10.6                  23.0                     282  \n",
      "2                  11.0                  23.5                     284  \n",
      "3                  10.6                  23.3                     284  \n",
      "4                  10.6                  22.8                     284  \n"
     ]
    }
   ],
   "source": [
    "import pandas as pd\n",
    "\n",
    "df = pd.read_csv('./assets/open-meteo-subset.csv')\n",
    "print(df.head())\n"
   ]
  }
 ],
 "metadata": {
  "kernelspec": {
   "display_name": "Python 3",
   "language": "python",
   "name": "python3"
  },
  "language_info": {
   "codemirror_mode": {
    "name": "ipython",
    "version": 3
   },
   "file_extension": ".py",
   "mimetype": "text/x-python",
   "name": "python",
   "nbconvert_exporter": "python",
   "pygments_lexer": "ipython3",
   "version": "3.11.13"
  }
 },
 "nbformat": 4,
 "nbformat_minor": 5
}
