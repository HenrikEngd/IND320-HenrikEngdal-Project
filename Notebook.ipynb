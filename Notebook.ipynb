{
 "cells": [
  {
   "cell_type": "markdown",
   "id": "3c3d6ad7",
   "metadata": {},
   "source": [
    "# IND320 Course Project"
   ]
  },
  {
   "cell_type": "markdown",
   "id": "33b937bb",
   "metadata": {},
   "source": [
    "## Introduction\n",
    "\n",
    "This directory contains the first part of the course project in the \"IND320 - Data to Decision\" at the Norwegian University of Life Sciences. The project is divided into four compulsory assignments: \n",
    "- Dashboard Basics (current)\n",
    "- Databases and APIs \n",
    "- Pre-processing and anomaly detection \n",
    "- Machine Learning and visualisation"
   ]
  },
  {
   "cell_type": "markdown",
   "id": "f070246c",
   "metadata": {},
   "source": [
    "### AI Usage\n",
    "\n",
    "AI plays a multifaceted role throughout this project, primarily serving as an assistant and analytical tool. The project leverages AI in several areas:\n",
    "\n",
    "**Development and Code Generation:** \n",
    "- AI assists in writing and optimizing code for the application. \n",
    "\n",
    "**Data Analysis and Insights:** \n",
    "- AI helps analyze data patterns and identifying trends. It assists in generating meaningful statistical summaries and suggesting appropriate visualization techniques for the given data.\n",
    "\n",
    "**Documentation and Communication:** \n",
    "- AI supports the creation of clear documentation, such as code comments, and user interface text. It helps structure the project documentation and ensures technical concepts are communicated effectively.\n",
    "\n",
    "**Problem-Solving and Debugging:** \n",
    "- Throughout the development process, AI serves as a coding companion, helping troubleshoot issues, optimize data processing workflows, and suggesting best practices."
   ]
  },
  {
   "cell_type": "markdown",
   "id": "8701f94b",
   "metadata": {},
   "source": [
    "## Notes\n",
    "\n",
    "For running and displaying this project i suggest using viewing the deployed version of the application linked under \"Code access & direct links\" or downloading the project and running it from your terminal with \"streamlit run streamlit_app.py\". I've tried to make this Notebook readable and usable, but find it a bit \"impractical\" at times."
   ]
  },
  {
   "cell_type": "markdown",
   "id": "8f19f027",
   "metadata": {},
   "source": [
    "## Project structure & code access"
   ]
  },
  {
   "cell_type": "markdown",
   "id": "baf3a8e0",
   "metadata": {},
   "source": [
    "### File structure\n",
    "\n",
    "As for the first assignment (Project Work, Part 1), the project's file structure is as follows:\n",
    "- /assets\n",
    "    - contains datasets\n",
    "- /pages\n",
    "    - contains all sub pages for the application\n",
    "- Notebook.ipynb\n",
    "    - Holds the documentation of the project\n",
    "- streamlit_app.py\n",
    "    - Serves as the entrypoint for running the application. Also represents the \"Homepage\".\n",
    "- README.md\n",
    "    - Holds documentation and other details. Maily used for Github repo.\n",
    "- requirements.txt\n",
    "    - Contains all necessary packages/modules installed to run the project correctly"
   ]
  },
  {
   "cell_type": "markdown",
   "id": "39fc8e78",
   "metadata": {},
   "source": [
    "### Code access and direct links\n",
    "\n",
    "- The project is deployed here: [ind320-henrikengdal-project](https://ind320-henrikengdal-project.streamlit.app/)\n",
    "- The code is accessible at the repository: [henrikengdal/ind320-henrikengdal-project](https://github.com/HenrikEngd/IND320-HenrikEngdal-Project.git)"
   ]
  },
  {
   "cell_type": "markdown",
   "id": "c03b9dc2",
   "metadata": {},
   "source": [
    "## Project Work, Part 1"
   ]
  },
  {
   "cell_type": "markdown",
   "id": "c09c576f",
   "metadata": {},
   "source": [
    "#### Imports & Run"
   ]
  },
  {
   "cell_type": "code",
   "execution_count": 1,
   "id": "4565698b",
   "metadata": {},
   "outputs": [],
   "source": [
    "import streamlit as st\n",
    "import pandas as pd\n",
    "import plotly.express as px\n",
    "import plotly.graph_objects as go\n",
    "from datetime import datetime\n",
    "\n",
    "# Only needed for displaying the application within the notebook\n",
    "from IPython.display import IFrame"
   ]
  },
  {
   "cell_type": "code",
   "execution_count": 2,
   "id": "f896d1f3",
   "metadata": {},
   "outputs": [
    {
     "name": "stdout",
     "output_type": "stream",
     "text": [
      "2025-10-02 12:40:49.423 Port 8501 is already in use\n"
     ]
    }
   ],
   "source": [
    "path_prefix = \"/Users/henrikengdal/Documents/GitHub/IND320-HenrikEngdal-Project/\"\n",
    "file_name = \"streamlit_app.py\"\n",
    "!streamlit run {path_prefix}{file_name} --server.port 8501 --server.headless true # Flags used for displaying the Streamlit app in an IFrame within Jupyter Notebook"
   ]
  },
  {
   "cell_type": "markdown",
   "id": "dffe6afc",
   "metadata": {},
   "source": [
    "#### Hoemepage\n",
    " My understanding for this page is that it does not have any spesifics that it has to include. I therefore chose to use it as a sort of \"Welcome to this project\" and explain a bit about what is to be found in the application and its use. The file streamlit_app.py also includes code for loading, preparing and caching the data so that its available to the other pages. Being done this way, a user has to enter the homepage before data is possible to display, but since it's the \"landingpage\" i think thats fine, and i've also added some error-handlig that politely asks the user to navigate back if the data is not loaded yet. \n",
    "\n",
    " See file strealit_app.py for code details"
   ]
  },
  {
   "cell_type": "code",
   "execution_count": 3,
   "id": "f29d4360",
   "metadata": {},
   "outputs": [
    {
     "data": {
      "text/html": [
       "\n",
       "        <iframe\n",
       "            width=\"100%\"\n",
       "            height=\"800\"\n",
       "            src=\"http://localhost:8501\"\n",
       "            frameborder=\"0\"\n",
       "            allowfullscreen\n",
       "            \n",
       "        ></iframe>\n",
       "        "
      ],
      "text/plain": [
       "<IPython.lib.display.IFrame at 0x1564bba50>"
      ]
     },
     "execution_count": 3,
     "metadata": {},
     "output_type": "execute_result"
    }
   ],
   "source": [
    "# Home\n",
    "IFrame(\"http://localhost:8501\", width=\"100%\", height=800)"
   ]
  },
  {
   "cell_type": "markdown",
   "id": "287ffb85",
   "metadata": {},
   "source": [
    "Related code:"
   ]
  },
  {
   "cell_type": "code",
   "execution_count": null,
   "id": "536d9609",
   "metadata": {},
   "outputs": [],
   "source": [
    "# Load and cache data globally\n",
    "@st.cache_data\n",
    "def load_weather_data():\n",
    "    # Load, prepare and cache the data\n",
    "    try:   \n",
    "        df = pd.read_csv(\"assets/open-meteo-subset.csv\")\n",
    "        # Convert time column to datetime\n",
    "        df['time'] = pd.to_datetime(df['time'])\n",
    "        return df\n",
    "    except FileNotFoundError:\n",
    "        st.error(\"Could not find the data file\")\n",
    "        return None\n",
    "    except Exception as e:\n",
    "        st.error(f\"Error loading data: {str(e)}\")\n",
    "        return None\n",
    "\n",
    "# Load data once and store in session state\n",
    "if 'weather_data' not in st.session_state:\n",
    "    st.session_state.weather_data = load_weather_data()\n",
    "\n",
    "st.title(\"IND320 Course Project\")\n",
    "\n",
    "# Show data load status\n",
    "if st.session_state.weather_data is None:\n",
    "    st.error(\"Failed to load the data\")\n",
    "\n",
    "\n",
    "st.markdown(\"\"\"\n",
    "### Project Overview\n",
    "This project is part of the course \"IND320 - Data to Decision\" at the Norwegian University of Life Sciences.\n",
    "The application demonstrates data loading, processing, and visualization using Streamlit and Plotly.\n",
    "The dataset used is a subset of weather data from [Open-Meteo](https://open-meteo.com/).\n",
    "\n",
    "### Content\n",
    "- Home Page: Overview of the project and data load status.\n",
    "- Second Page: Table with weather parameters for January 2020, incl. mean, min, max, std.\n",
    "- Third Page: Dynamic visualization with parameter selection and month range filter.\n",
    "\"\"\")\n"
   ]
  },
  {
   "cell_type": "markdown",
   "id": "cfe67a01",
   "metadata": {},
   "source": [
    "#### sencond_page (Static data visualization)\n",
    "\n",
    "My understanding of this page is that it is to include a table using a \"row-wise display\" of the first month of the data series (January). And that the table should have one row for each column of the imported data. Therefore 5 rows in total:\n",
    "- temperature_2m\n",
    "- percipitation\n",
    "- wind_speed_10m\n",
    "- wind_gust_10m\n",
    "- wind_direction_10m\n",
    "\n",
    "I've also included some values for Mean Value, Minimum, Maximum and Standard Deviation for some more understanding for the data and for a quick and easy overview\n",
    "\n",
    "See the file \"pages/second_page.py\" for code details"
   ]
  },
  {
   "cell_type": "code",
   "execution_count": null,
   "id": "72a05d55",
   "metadata": {},
   "outputs": [
    {
     "data": {
      "text/html": [
       "\n",
       "        <iframe\n",
       "            width=\"100%\"\n",
       "            height=\"600\"\n",
       "            src=\"http://localhost:8501/second_page\"\n",
       "            frameborder=\"0\"\n",
       "            allowfullscreen\n",
       "            \n",
       "        ></iframe>\n",
       "        "
      ],
      "text/plain": [
       "<IPython.lib.display.IFrame at 0x1564d6f50>"
      ]
     },
     "execution_count": 4,
     "metadata": {},
     "output_type": "execute_result"
    }
   ],
   "source": [
    "# Second page (Make sure you click back to the first page and then navigate to the third page to load it properly)\n",
    "IFrame(\"http://localhost:8501/second_page\", width=\"100%\", height=600)"
   ]
  },
  {
   "cell_type": "markdown",
   "id": "4399f256",
   "metadata": {},
   "source": [
    "related code:"
   ]
  },
  {
   "cell_type": "code",
   "execution_count": null,
   "id": "da95d354",
   "metadata": {},
   "outputs": [],
   "source": [
    "# Page configuration\n",
    "st.set_page_config(page_title=\"Weather Data Table\", layout=\"wide\")\n",
    "\n",
    "st.title(\"Weather Data Overview\")\n",
    "st.markdown(\"---\")\n",
    "\n",
    "# Get data from session state (loaded in homepage)\n",
    "df = st.session_state.get('weather_data', None)\n",
    "\n",
    "if df is None:\n",
    "    st.error(\"No weather data available. Please visit the homepage first to load the data.\")\n",
    "    st.stop()\n",
    "\n",
    "if df is not None:\n",
    "    # Filter data for the first month\n",
    "    first_month_df = df[df['time'].dt.strftime('%Y-%m') == '2020-01']\n",
    "    \n",
    "    # Get numeric columns only (exclude non-numeric like 'time' or any string columns)\n",
    "    numeric_columns = list(df.select_dtypes(include='number').columns)\n",
    "    \n",
    "    # Create table data for display\n",
    "    table_data = []\n",
    "    \n",
    "    for column in numeric_columns:\n",
    "        # Get first month data for this column\n",
    "        first_month_values = first_month_df[column].values\n",
    "        # Calculate statistics (numeric-safe)\n",
    "        mean_val = pd.to_numeric(first_month_df[column], errors='coerce').mean()\n",
    "        min_val = pd.to_numeric(first_month_df[column], errors='coerce').min()\n",
    "        max_val = pd.to_numeric(first_month_df[column], errors='coerce').max()\n",
    "        std_val = pd.to_numeric(first_month_df[column], errors='coerce').std()\n",
    "        \n",
    "        # Create row data\n",
    "        row_data = {\n",
    "            'Parameter': column,\n",
    "            'Mean': f\"{mean_val:.2f}\",\n",
    "            'Min': f\"{min_val:.2f}\",\n",
    "            'Max': f\"{max_val:.2f}\",\n",
    "            'Std Dev': f\"{std_val:.2f}\",\n",
    "            'First Month Trend': first_month_values\n",
    "        }\n",
    "        table_data.append(row_data)\n",
    "    \n",
    "    # Convert to DataFrame\n",
    "    table_df = pd.DataFrame(table_data)\n",
    "    \n",
    "    st.subheader(\"Weather Parameters - First Month Analysis\")\n",
    "    st.markdown(\"Each row shows statistics and trends for one weather parameter during January 2020\")\n",
    "    \n",
    "    # Display the table\n",
    "    st.dataframe(\n",
    "        table_df,\n",
    "        column_config={\n",
    "            \"Parameter\": st.column_config.TextColumn(\n",
    "                \"Weather Parameter\",\n",
    "                help=\"The weather measurement parameter\",\n",
    "                width=\"medium\"\n",
    "            ),\n",
    "            \"Mean\": st.column_config.NumberColumn(\n",
    "                \"Mean Value\",\n",
    "                help=\"Average value for January 2020\"\n",
    "            ),\n",
    "            \"Min\": st.column_config.NumberColumn(\n",
    "                \"Minimum\",\n",
    "                help=\"Lowest recorded value in January 2020\"\n",
    "            ),\n",
    "            \"Max\": st.column_config.NumberColumn(\n",
    "                \"Maximum\", \n",
    "                help=\"Highest recorded value in January 2020\"\n",
    "            ),\n",
    "            \"Std Dev\": st.column_config.NumberColumn(\n",
    "                \"Standard Deviation\",\n",
    "                help=\"Standard deviation showing data variability\"\n",
    "            ),\n",
    "            # using LineChartColumn for trend visualization\n",
    "            \"First Month Trend\": st.column_config.LineChartColumn(\n",
    "                \"Trend\",\n",
    "                help=\"Hourly trend visualization for the entire first month\",\n",
    "                width=\"large\"\n",
    "            )\n",
    "        },\n",
    "        width='stretch',\n",
    "        hide_index=True\n",
    "    )\n",
    "\n",
    "else:\n",
    "    st.error(\"Unable to load data. Please check if the data file exists and is properly formatted.\")\n",
    "\n"
   ]
  },
  {
   "cell_type": "markdown",
   "id": "d10f521a",
   "metadata": {},
   "source": [
    "#### third_page (Dynamic visualization)\n",
    "\n",
    "My understanding of this page is that it should include a graph display of the imported data including axis titles and other relevant formatting.\n",
    "There should also be the option to select single columns for display or all columns together\n",
    "There should also be a slider to select a subset of months (default to the first month) "
   ]
  },
  {
   "cell_type": "code",
   "execution_count": null,
   "id": "7bbe665b",
   "metadata": {},
   "outputs": [
    {
     "data": {
      "text/html": [
       "\n",
       "        <iframe\n",
       "            width=\"100%\"\n",
       "            height=\"1200\"\n",
       "            src=\"http://localhost:8501/third_page\"\n",
       "            frameborder=\"0\"\n",
       "            allowfullscreen\n",
       "            \n",
       "        ></iframe>\n",
       "        "
      ],
      "text/plain": [
       "<IPython.lib.display.IFrame at 0x1564d7a10>"
      ]
     },
     "execution_count": 5,
     "metadata": {},
     "output_type": "execute_result"
    }
   ],
   "source": [
    "# Third page (Make sure you click back to the first page and then navigate to the third page to load it properly)\n",
    "IFrame(\"http://localhost:8501/third_page\", width=\"100%\", height=1200)"
   ]
  },
  {
   "cell_type": "markdown",
   "id": "2ff9be9a",
   "metadata": {},
   "source": [
    "related code:"
   ]
  },
  {
   "cell_type": "code",
   "execution_count": null,
   "id": "3db6e97a",
   "metadata": {},
   "outputs": [],
   "source": [
    "# Page configuration\n",
    "st.set_page_config(page_title=\"Weather Data Analysis\", layout=\"wide\")\n",
    "\n",
    "st.title(\"Weather Data Analysis\")\n",
    "st.markdown(\"---\")\n",
    "\n",
    "# Get data from session state (loaded in homepage)\n",
    "df = st.session_state.get('weather_data', None)\n",
    "\n",
    "if df is None:\n",
    "    st.error(\"No weather data available. Please visit the homepage first to load the data.\")\n",
    "    st.stop()\n",
    "\n",
    "if df is not None:\n",
    "    # Work on a local copy to avoid mutating cached data in session state\n",
    "    df_local = df.copy()\n",
    "    # Extract month for filtering\n",
    "    df_local['month'] = df_local['time'].dt.strftime('%Y-%m')\n",
    "    # Get unique months for the slider\n",
    "    months = sorted(df_local['month'].unique())\n",
    "    \n",
    "    # Create month abbreviations mapping\n",
    "    month_mapping = {}\n",
    "    month_display_names = []\n",
    "    \n",
    "    for month_str in months:\n",
    "        # Convert '2020-01' to 'Jan 2020'\n",
    "        year, month_num = month_str.split('-')\n",
    "        month_abbrev = datetime.strptime(month_num, '%m').strftime('%b')\n",
    "        display_name = f\"{month_abbrev} {year}\"\n",
    "        month_mapping[display_name] = month_str\n",
    "        month_display_names.append(display_name)\n",
    "    \n",
    "    # Create two columns for controls\n",
    "    col1, col2 = st.columns([1, 1])\n",
    "    \n",
    "    with col1:\n",
    "        st.subheader(\"Column Selection\")\n",
    "        # Get numeric columns (excluding time)\n",
    "        numeric_columns = [col for col in df_local.select_dtypes(include='number').columns if col not in ['time']]\n",
    "        column_options = ['All Columns'] + numeric_columns\n",
    "        \n",
    "        selected_column = st.selectbox(\n",
    "            \"Choose a column to visualize:\",\n",
    "            options=column_options,\n",
    "            index=0,\n",
    "            help=\"Select a specific column or 'All Columns' to show all data together\"\n",
    "        )\n",
    "    \n",
    "    with col2:\n",
    "        st.subheader(\"Month Selection\")\n",
    "        # Month selection slider with abbreviated names\n",
    "        # Default to the first month only (January) — two handles set to the first month if range is available\n",
    "        default_month_value = (\n",
    "            (month_display_names[0], month_display_names[0])\n",
    "            if len(month_display_names) >= 2\n",
    "            else month_display_names[0]\n",
    "        )\n",
    "        selected_month_display = st.select_slider(\n",
    "            \"Select month range:\",\n",
    "            options=month_display_names,\n",
    "            value=default_month_value,\n",
    "            help=\"Use the slider to select a contiguous range of months\"\n",
    "        )\n",
    "    \n",
    "    # Convert display selection back to actual month values for filtering\n",
    "    if isinstance(selected_month_display, str):\n",
    "        selected_months = [month_mapping[selected_month_display]]\n",
    "    elif isinstance(selected_month_display, tuple):\n",
    "        # Get all months between the selected range\n",
    "        start_display = selected_month_display[0]\n",
    "        end_display = selected_month_display[1]\n",
    "        start_idx = month_display_names.index(start_display)\n",
    "        end_idx = month_display_names.index(end_display)\n",
    "        selected_display_range = month_display_names[start_idx:end_idx + 1]\n",
    "        selected_months = [month_mapping[display] for display in selected_display_range]\n",
    "    else:\n",
    "        selected_months = [month_mapping[selected_month_display]]\n",
    "    \n",
    "    # Filter data based on selected months\n",
    "    filtered_df = df_local[df_local['month'].isin(selected_months)]\n",
    "    \n",
    "    st.markdown(\"---\")\n",
    "    \n",
    "    # Create the plot\n",
    "    if len(filtered_df) > 0:\n",
    "        # Get display names for selected months\n",
    "        selected_display_names = [display for display, month in month_mapping.items() if month in selected_months]\n",
    "        \n",
    "        st.subheader(f\"Weather Data Visualization\")\n",
    "        \n",
    "        if selected_column == 'All Columns':\n",
    "            # Create subplot for all columns\n",
    "            fig = go.Figure()\n",
    "            \n",
    "            colors = ['#FF6B6B', \"#7AFFA4\", \"#D8ABFF\", \"#FF71FA\", '#FFEAA7']\n",
    "            \n",
    "            for i, col in enumerate(numeric_columns):\n",
    "                fig.add_trace(go.Scatter(\n",
    "                    x=filtered_df['time'],\n",
    "                    y=filtered_df[col],\n",
    "                    mode='lines',\n",
    "                    name=col,\n",
    "                    line=dict(color=colors[i % len(colors)], width=2),\n",
    "                    hovertemplate=f'<b>{col}</b><br>Date: %{{x}}<br>Value: %{{y}}<extra></extra>'\n",
    "                ))\n",
    "            \n",
    "            fig.update_layout(\n",
    "                title={\n",
    "                    'text': f\"All Weather Parameters Over Time ({', '.join(selected_display_names)})\",\n",
    "                    'x': 0.5,\n",
    "                    'font': {'size': 20}\n",
    "                },\n",
    "                xaxis_title=\"Date and Time\",\n",
    "                yaxis_title=\"Values (Various Units)\",\n",
    "                hovermode='x unified',\n",
    "                height=600,\n",
    "                showlegend=True,\n",
    "                legend=dict(\n",
    "                    yanchor=\"top\",\n",
    "                    y=0.99,\n",
    "                    xanchor=\"left\",\n",
    "                    x=1.01\n",
    "                ),\n",
    "                template='plotly_white',\n",
    "                margin=dict(r=150)\n",
    "            )\n",
    "            \n",
    "            # Update x-axis formatting\n",
    "            fig.update_xaxes(\n",
    "                showgrid=True,\n",
    "                gridwidth=1,\n",
    "                gridcolor='lightgray',\n",
    "                tickformat='%Y-%m-%d %H:%M'\n",
    "            )\n",
    "            \n",
    "            fig.update_yaxes(\n",
    "                showgrid=True,\n",
    "                gridwidth=1,\n",
    "                gridcolor='lightgray'\n",
    "            )\n",
    "            \n",
    "        else:\n",
    "            # Create plot for single column\n",
    "            fig = px.line(\n",
    "                filtered_df,\n",
    "                x='time',\n",
    "                y=selected_column,\n",
    "                title=f\"{selected_column} Over Time ({', '.join(selected_display_names)})\",\n",
    "                labels={\n",
    "                    'time': 'Date and Time',\n",
    "                    selected_column: selected_column\n",
    "                },\n",
    "                height=600\n",
    "            )\n",
    "            \n",
    "            fig.update_traces(\n",
    "                line=dict(color='#3498DB', width=2),\n",
    "                hovertemplate=f'<b>{selected_column}</b><br>Date: %{{x}}<br>Value: %{{y}}<extra></extra>'\n",
    "            )\n",
    "            \n",
    "            fig.update_layout(\n",
    "                title={\n",
    "                    'text': fig.layout.title.text,\n",
    "                    'x': 0.5,\n",
    "                    'font': {'size': 20}\n",
    "                },\n",
    "                template='plotly_white',\n",
    "                hovermode='x'\n",
    "            )\n",
    "            \n",
    "            # Update axes\n",
    "            fig.update_xaxes(\n",
    "                title_text=\"Date and Time\",\n",
    "                showgrid=True,\n",
    "                gridwidth=1,\n",
    "                gridcolor='lightgray',\n",
    "                tickformat='%Y-%m-%d %H:%M'\n",
    "            )\n",
    "            \n",
    "            fig.update_yaxes(\n",
    "                title_text=selected_column,\n",
    "                showgrid=True,\n",
    "                gridwidth=1,\n",
    "                gridcolor='lightgray'\n",
    "            )\n",
    "        \n",
    "        # Display the plot\n",
    "        st.plotly_chart(fig, width='stretch')\n",
    "        \n",
    "    else:\n",
    "        st.warning(\"No data available for the selected month(s).\")\n",
    "        \n",
    "else:\n",
    "    st.error(\"Unable to load data. Please check if the data file exists and is properly formatted.\")\n",
    "\n"
   ]
  }
 ],
 "metadata": {
  "kernelspec": {
   "display_name": "Python 3",
   "language": "python",
   "name": "python3"
  },
  "language_info": {
   "codemirror_mode": {
    "name": "ipython",
    "version": 3
   },
   "file_extension": ".py",
   "mimetype": "text/x-python",
   "name": "python",
   "nbconvert_exporter": "python",
   "pygments_lexer": "ipython3",
   "version": "3.11.13"
  }
 },
 "nbformat": 4,
 "nbformat_minor": 5
}
